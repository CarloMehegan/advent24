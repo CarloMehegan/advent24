{
 "cells": [
  {
   "cell_type": "markdown",
   "id": "a0112a21-2575-45c8-a30b-ed1a5116468c",
   "metadata": {},
   "source": [
    "# historian hysteria\n",
    "\n",
    "step 1. parse the input into two lists of numbers\n",
    "\n",
    "step 2. sort the two lists\n",
    "\n",
    "step 3. get the differences between the lists"
   ]
  },
  {
   "cell_type": "code",
   "execution_count": 14,
   "id": "2cd3a748-9d30-413d-8ee4-1b214474c37e",
   "metadata": {},
   "outputs": [],
   "source": [
    "#parse the input\n",
    "\n",
    "#there's a perfect python function for this! zip!\n",
    "# https://www.geeksforgeeks.org/zip-in-python/\n",
    "#see \"unzipping data with zip\" section\n",
    "with open('day1.txt', 'r') as file:\n",
    "    #oh what a beautiful one liner\n",
    "    list_1, list_2 = zip(*[line.split() for line in file])\n",
    "\n",
    "#sort the two lists\n",
    "#sorted() also makes them lists because they're tuples right now\n",
    "list_1 = sorted(list_1)\n",
    "list_2 = sorted(list_2)"
   ]
  },
  {
   "cell_type": "code",
   "execution_count": 15,
   "id": "971719a1-f90c-4559-8889-d85ed3c1abba",
   "metadata": {},
   "outputs": [],
   "source": [
    "#get the differences between each\n",
    "#this would be so easy in R\n",
    "\n",
    "#now that they're sorted, we can use zip again\n",
    "diffs = [abs(int(a) - int(b)) for a,b in zip(list_1, list_2)]"
   ]
  },
  {
   "cell_type": "code",
   "execution_count": 16,
   "id": "4c3744dc-4e6b-47da-aab2-4fc6438ebde9",
   "metadata": {},
   "outputs": [
    {
     "data": {
      "text/plain": [
       "2756096"
      ]
     },
     "execution_count": 16,
     "metadata": {},
     "output_type": "execute_result"
    }
   ],
   "source": [
    "#get the sum of all elements in diffs now\n",
    "sum(diffs)"
   ]
  },
  {
   "cell_type": "markdown",
   "id": "c160acbe-270d-4819-ae2d-9ef25c3e3cce",
   "metadata": {},
   "source": [
    "# part 2\n",
    "\n",
    "now we have to see how many times each number in the first list appears in the second list, then do some math with that\n",
    "\n",
    "seems like a awesome place to use a hashmap maybe?"
   ]
  },
  {
   "cell_type": "code",
   "execution_count": 17,
   "id": "96f508f8",
   "metadata": {},
   "outputs": [
    {
     "data": {
      "text/plain": [
       "1000"
      ]
     },
     "execution_count": 17,
     "metadata": {},
     "output_type": "execute_result"
    }
   ],
   "source": [
    "len(diffs)"
   ]
  },
  {
   "cell_type": "code",
   "execution_count": 24,
   "id": "4e0578a4",
   "metadata": {},
   "outputs": [
    {
     "data": {
      "text/plain": [
       "{11697: 4,\n",
       " 13345: 15,\n",
       " 15737: 19,\n",
       " 17982: 14,\n",
       " 19623: 4,\n",
       " 24540: 14,\n",
       " 26239: 17,\n",
       " 26386: 15,\n",
       " 26664: 8,\n",
       " 31051: 8,\n",
       " 31743: 19,\n",
       " 32457: 11,\n",
       " 38259: 13,\n",
       " 38856: 12,\n",
       " 42108: 7,\n",
       " 44785: 6,\n",
       " 47996: 1,\n",
       " 50602: 5,\n",
       " 50653: 1,\n",
       " 64279: 6,\n",
       " 66440: 7,\n",
       " 68022: 9,\n",
       " 68554: 3,\n",
       " 72254: 18,\n",
       " 73309: 18,\n",
       " 79692: 20,\n",
       " 82924: 13,\n",
       " 84802: 20,\n",
       " 89227: 10,\n",
       " 89855: 10,\n",
       " 90211: 15,\n",
       " 92202: 16,\n",
       " 93568: 2,\n",
       " 93818: 8,\n",
       " 93975: 4,\n",
       " 94769: 20,\n",
       " 95383: 6,\n",
       " 99781: 7}"
      ]
     },
     "execution_count": 24,
     "metadata": {},
     "output_type": "execute_result"
    }
   ],
   "source": [
    "#make a dict of each unique num in list_1 and how many times it appears in list_2\n",
    "\n",
    "#dictionary comprehension: ex. { k:v for (k,v) in zip(keys, values) }\n",
    "#here we say key is i and value is the count of i in list_2, for each i in list_1\n",
    "#also, we can only keep the nonzero ones with an if at the end! python is so awesome i love a one liner\n",
    "dict_1 = {int(i): list_2.count(i) for i in list_1 if list_2.count(i) > 0}\n",
    "dict_1"
   ]
  },
  {
   "cell_type": "code",
   "execution_count": 25,
   "id": "dba007fe",
   "metadata": {},
   "outputs": [
    {
     "data": {
      "text/plain": [
       "23117829"
      ]
     },
     "execution_count": 25,
     "metadata": {},
     "output_type": "execute_result"
    }
   ],
   "source": [
    "#multiply each key in dict_1 by its value and sum all of those numbers\n",
    "#another list comprehension! wahoo!\n",
    "sum([k*v for k,v in dict_1.items()])"
   ]
  },
  {
   "cell_type": "code",
   "execution_count": null,
   "id": "1a1adc5d",
   "metadata": {},
   "outputs": [],
   "source": []
  }
 ],
 "metadata": {
  "kernelspec": {
   "display_name": "Python 3",
   "language": "python",
   "name": "python3"
  },
  "language_info": {
   "codemirror_mode": {
    "name": "ipython",
    "version": 3
   },
   "file_extension": ".py",
   "mimetype": "text/x-python",
   "name": "python",
   "nbconvert_exporter": "python",
   "pygments_lexer": "ipython3",
   "version": "3.10.12"
  }
 },
 "nbformat": 4,
 "nbformat_minor": 5
}
