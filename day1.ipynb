{
 "cells": [
  {
   "cell_type": "markdown",
   "id": "a0112a21-2575-45c8-a30b-ed1a5116468c",
   "metadata": {},
   "source": [
    "# historian hysteria\n",
    "\n",
    "step 1. parse the input into two lists of numbers\n",
    "\n",
    "step 2. sort the two lists\n",
    "\n",
    "step 3. get the differences between the lists"
   ]
  },
  {
   "cell_type": "code",
   "execution_count": 33,
   "id": "2cd3a748-9d30-413d-8ee4-1b214474c37e",
   "metadata": {},
   "outputs": [],
   "source": [
    "#parse the input\n",
    "\n",
    "#there's a perfect python function for this! zip!\n",
    "# https://www.geeksforgeeks.org/zip-in-python/\n",
    "#see \"unzipping data with zip\" section\n",
    "with open('day1.txt', 'r') as file:\n",
    "    #oh what a beautiful one liner\n",
    "    list_1, list_2 = zip(*[line.split() for line in file])\n",
    "\n",
    "#sort the two lists\n",
    "#sorted() also makes them lists because they're tuples right now\n",
    "list_1 = sorted(list_1)\n",
    "list_2 = sorted(list_2)"
   ]
  },
  {
   "cell_type": "code",
   "execution_count": 34,
   "id": "971719a1-f90c-4559-8889-d85ed3c1abba",
   "metadata": {},
   "outputs": [],
   "source": [
    "#get the differences between each\n",
    "#this would be so easy in R\n",
    "\n",
    "#now that they're sorted, we can use zip again\n",
    "diffs = [abs(int(a) - int(b)) for a,b in zip(list_1, list_2)]"
   ]
  },
  {
   "cell_type": "code",
   "execution_count": 35,
   "id": "4c3744dc-4e6b-47da-aab2-4fc6438ebde9",
   "metadata": {},
   "outputs": [
    {
     "data": {
      "text/plain": [
       "2756096"
      ]
     },
     "execution_count": 35,
     "metadata": {},
     "output_type": "execute_result"
    }
   ],
   "source": [
    "#get the sum of all elements in diffs now\n",
    "sum(diffs)"
   ]
  },
  {
   "cell_type": "code",
   "execution_count": null,
   "id": "c160acbe-270d-4819-ae2d-9ef25c3e3cce",
   "metadata": {},
   "outputs": [],
   "source": []
  }
 ],
 "metadata": {
  "kernelspec": {
   "display_name": "Python 3 (ipykernel)",
   "language": "python",
   "name": "python3"
  },
  "language_info": {
   "codemirror_mode": {
    "name": "ipython",
    "version": 3
   },
   "file_extension": ".py",
   "mimetype": "text/x-python",
   "name": "python",
   "nbconvert_exporter": "python",
   "pygments_lexer": "ipython3",
   "version": "3.11.6"
  }
 },
 "nbformat": 4,
 "nbformat_minor": 5
}
